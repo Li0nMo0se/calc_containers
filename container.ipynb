{
 "cells": [
  {
   "cell_type": "code",
   "execution_count": 1,
   "id": "organized-buffalo",
   "metadata": {},
   "outputs": [],
   "source": [
    "import numpy as np\n",
    "from typing import List"
   ]
  },
  {
   "cell_type": "code",
   "execution_count": 2,
   "id": "reported-visiting",
   "metadata": {},
   "outputs": [],
   "source": [
    "from __future__ import annotations\n",
    "\n",
    "class Range:\n",
    "    def __init__(self: Range, _min: int, _max: int) -> Range:\n",
    "        self.min = _min\n",
    "        self.max = _max\n",
    "    \n",
    "    def __add__(self: Range, other: Range) -> Range:\n",
    "        return Range(self.min + other.min, self.max + other.max)\n",
    "\n",
    "    def __str__(self: Range) -> str:\n",
    "        return f\"[{self.min}, {self.max}]\"\n",
    "    \n",
    "    def __contains__(self: Range, elt: int):\n",
    "        return elt >= self.min and elt <= self.max\n",
    "    \n",
    "    def __contains__(self: Range, elt: Range):\n",
    "        return (elt.min >= self.min and elt.min <= self.max) or (elt.max >= self.min and elt.max <= self.max) "
   ]
  },
  {
   "cell_type": "code",
   "execution_count": 3,
   "id": "welsh-vitamin",
   "metadata": {},
   "outputs": [
    {
     "name": "stdout",
     "output_type": "stream",
     "text": [
      "[6, 30]\n"
     ]
    }
   ],
   "source": [
    "print(Range(1, 10) + Range(5, 20)) # OK"
   ]
  },
  {
   "cell_type": "code",
   "execution_count": 4,
   "id": "animated-timeline",
   "metadata": {},
   "outputs": [],
   "source": [
    "class Container:\n",
    "    def __init__(self: Container, name: str, capacity: Range, price: int) -> Container:\n",
    "        self.name = name\n",
    "        self.capacity = capacity\n",
    "        self.price = price\n",
    "\n",
    "    def __str__(self: Container) -> str:\n",
    "        return f\"name: {self.name}, capacity: {self.capacity}, price: {self.price}\""
   ]
  },
  {
   "cell_type": "code",
   "execution_count": 5,
   "id": "eight-breath",
   "metadata": {},
   "outputs": [
    {
     "name": "stdout",
     "output_type": "stream",
     "text": [
      "name: 40HQ, capacity: [62, 65], price: 2100\n",
      "name: 40FCL, capacity: [50, 55], price: 2000\n",
      "name: 20FCL, capacity: [25, 28], price: 1500\n",
      "name: LCL, capacity: [1, 1], price: 500\n"
     ]
    },
    {
     "data": {
      "text/plain": [
       "[None, None, None, None]"
      ]
     },
     "execution_count": 5,
     "metadata": {},
     "output_type": "execute_result"
    }
   ],
   "source": [
    "containers = [Container(\"40HQ\",  Range(62, 65), 2100),\n",
    "              Container(\"40FCL\", Range(50, 55), 2000),\n",
    "              Container(\"20FCL\", Range(25, 28), 1500),\n",
    "              Container(\"LCL\",   Range(1, 1),   500),\n",
    "             ]\n",
    "\n",
    "[print(container) for container in containers]"
   ]
  },
  {
   "cell_type": "markdown",
   "id": "qualified-yield",
   "metadata": {},
   "source": [
    "From [stackoverflow](https://stackoverflow.com/questions/7825323/how-do-i-get-a-list-of-every-possible-combination-of-product-prices-to-reach-a-t), tunned to match the container problem"
   ]
  },
  {
   "cell_type": "code",
   "execution_count": 6,
   "id": "ultimate-business",
   "metadata": {},
   "outputs": [],
   "source": [
    "import itertools\n",
    "\n",
    "def __get_all_combinaison(containers: List[Container], target_capacity: Range) -> List[List[int]]:\n",
    "    if len(containers) == 0 or target_capacity.max <= 0:\n",
    "        return []\n",
    "    \n",
    "    results = []\n",
    "        \n",
    "    curr_capacity = containers[0].capacity\n",
    "    remaining_containers = containers[1:]\n",
    "    \n",
    "    # Get the maximum number of containers to consider\n",
    "    max_quantity = target_capacity.max // curr_capacity.min\n",
    "    \n",
    "    # Loop over the maximum quantity\n",
    "    for quantity in range(max_quantity + 1): # +1 needed for the range\n",
    "        curr_range = Range(quantity * curr_capacity.min, quantity * curr_capacity.max)\n",
    "        # If the current capacity range is within target, then we found a possible combinaison\n",
    "        if target_capacity in curr_range: # Stop here\n",
    "            results.append([quantity] + [0] * len(remaining_containers))\n",
    "        else: # Else, recursively find with other containers\n",
    "            remaining_capacity = Range(target_capacity.min - curr_range.max, target_capacity.max - curr_range.min)\n",
    "            for option in __get_all_combinaison(remaining_containers, remaining_capacity):\n",
    "                results.append([quantity] + option)\n",
    "    \n",
    "    return results"
   ]
  },
  {
   "cell_type": "code",
   "execution_count": 7,
   "id": "numeric-thing",
   "metadata": {},
   "outputs": [],
   "source": [
    "def get_all_combinaison(containers: List[Container], target_capacity: int) -> List[List[int]]:\n",
    "    return __get_all_combinaison(containers, Range(target_capacity, target_capacity))"
   ]
  },
  {
   "cell_type": "code",
   "execution_count": 8,
   "id": "residential-drove",
   "metadata": {},
   "outputs": [
    {
     "data": {
      "text/plain": [
       "[[0, 0, 0, 200],\n",
       " [0, 0, 1, 172],\n",
       " [0, 0, 1, 175],\n",
       " [0, 0, 2, 144],\n",
       " [0, 0, 2, 150],\n",
       " [0, 0, 3, 116],\n",
       " [0, 0, 3, 125],\n",
       " [0, 0, 4, 88],\n",
       " [0, 0, 4, 100],\n",
       " [0, 0, 5, 60],\n",
       " [0, 0, 5, 75],\n",
       " [0, 0, 6, 32],\n",
       " [0, 0, 6, 50],\n",
       " [0, 0, 7, 4],\n",
       " [0, 0, 7, 25],\n",
       " [0, 0, 8, 0],\n",
       " [0, 1, 0, 145],\n",
       " [0, 1, 0, 150],\n",
       " [0, 1, 1, 117],\n",
       " [0, 1, 1, 125],\n",
       " [0, 1, 2, 89],\n",
       " [0, 1, 2, 100],\n",
       " [0, 1, 3, 61],\n",
       " [0, 1, 3, 75],\n",
       " [0, 1, 4, 33],\n",
       " [0, 1, 4, 50],\n",
       " [0, 1, 5, 5],\n",
       " [0, 1, 5, 25],\n",
       " [0, 1, 6, 0],\n",
       " [0, 2, 0, 90],\n",
       " [0, 2, 0, 100],\n",
       " [0, 2, 1, 62],\n",
       " [0, 2, 1, 75],\n",
       " [0, 2, 2, 34],\n",
       " [0, 2, 2, 50],\n",
       " [0, 2, 3, 6],\n",
       " [0, 2, 3, 25],\n",
       " [0, 2, 4, 0],\n",
       " [0, 3, 0, 35],\n",
       " [0, 3, 0, 50],\n",
       " [0, 3, 1, 7],\n",
       " [0, 3, 1, 25],\n",
       " [0, 3, 2, 0],\n",
       " [0, 4, 0, 0],\n",
       " [1, 0, 0, 135],\n",
       " [1, 0, 0, 138],\n",
       " [1, 0, 1, 107],\n",
       " [1, 0, 1, 113],\n",
       " [1, 0, 2, 79],\n",
       " [1, 0, 2, 88],\n",
       " [1, 0, 3, 51],\n",
       " [1, 0, 3, 63],\n",
       " [1, 0, 4, 23],\n",
       " [1, 0, 4, 38],\n",
       " [1, 0, 5, 0],\n",
       " [1, 1, 0, 80],\n",
       " [1, 1, 0, 88],\n",
       " [1, 1, 1, 52],\n",
       " [1, 1, 1, 63],\n",
       " [1, 1, 2, 24],\n",
       " [1, 1, 2, 38],\n",
       " [1, 1, 3, 0],\n",
       " [1, 2, 0, 25],\n",
       " [1, 2, 0, 38],\n",
       " [1, 2, 1, 0],\n",
       " [2, 0, 0, 70],\n",
       " [2, 0, 0, 76],\n",
       " [2, 0, 1, 42],\n",
       " [2, 0, 1, 51],\n",
       " [2, 0, 2, 14],\n",
       " [2, 0, 2, 26],\n",
       " [2, 0, 3, 0],\n",
       " [2, 1, 0, 15],\n",
       " [2, 1, 0, 26],\n",
       " [2, 1, 1, 0],\n",
       " [3, 0, 0, 5],\n",
       " [3, 0, 0, 14]]"
      ]
     },
     "execution_count": 8,
     "metadata": {},
     "output_type": "execute_result"
    }
   ],
   "source": [
    "combinaisons = get_all_combinaison(containers, 200)\n",
    "combinaisons"
   ]
  },
  {
   "cell_type": "code",
   "execution_count": 9,
   "id": "comparative-desperate",
   "metadata": {},
   "outputs": [],
   "source": [
    "# TODO CHECK FUNCTION"
   ]
  },
  {
   "cell_type": "code",
   "execution_count": 10,
   "id": "acknowledged-istanbul",
   "metadata": {},
   "outputs": [],
   "source": [
    "def get_combinaison_prices(combinaisons, containers):\n",
    "    def get_price(combinaison, containers):\n",
    "        total = 0\n",
    "        for i in range(len(combinaison)):\n",
    "            quantity = combinaison[i]\n",
    "            total += quantity * containers[i].price\n",
    "        return total\n",
    "        \n",
    "    return [get_price(combinaison, containers) for combinaison in combinaisons]"
   ]
  },
  {
   "cell_type": "code",
   "execution_count": 11,
   "id": "returning-currency",
   "metadata": {},
   "outputs": [
    {
     "data": {
      "text/plain": [
       "[100000,\n",
       " 87500,\n",
       " 89000,\n",
       " 75000,\n",
       " 78000,\n",
       " 62500,\n",
       " 67000,\n",
       " 50000,\n",
       " 56000,\n",
       " 37500,\n",
       " 45000,\n",
       " 25000,\n",
       " 34000,\n",
       " 12500,\n",
       " 23000,\n",
       " 12000,\n",
       " 74500,\n",
       " 77000,\n",
       " 62000,\n",
       " 66000,\n",
       " 49500,\n",
       " 55000,\n",
       " 37000,\n",
       " 44000,\n",
       " 24500,\n",
       " 33000,\n",
       " 12000,\n",
       " 22000,\n",
       " 11000,\n",
       " 49000,\n",
       " 54000,\n",
       " 36500,\n",
       " 43000,\n",
       " 24000,\n",
       " 32000,\n",
       " 11500,\n",
       " 21000,\n",
       " 10000,\n",
       " 23500,\n",
       " 31000,\n",
       " 11000,\n",
       " 20000,\n",
       " 9000,\n",
       " 8000,\n",
       " 69600,\n",
       " 71100,\n",
       " 57100,\n",
       " 60100,\n",
       " 44600,\n",
       " 49100,\n",
       " 32100,\n",
       " 38100,\n",
       " 19600,\n",
       " 27100,\n",
       " 9600,\n",
       " 44100,\n",
       " 48100,\n",
       " 31600,\n",
       " 37100,\n",
       " 19100,\n",
       " 26100,\n",
       " 8600,\n",
       " 18600,\n",
       " 25100,\n",
       " 7600,\n",
       " 39200,\n",
       " 42200,\n",
       " 26700,\n",
       " 31200,\n",
       " 14200,\n",
       " 20200,\n",
       " 8700,\n",
       " 13700,\n",
       " 19200,\n",
       " 7700,\n",
       " 8800,\n",
       " 13300]"
      ]
     },
     "execution_count": 11,
     "metadata": {},
     "output_type": "execute_result"
    }
   ],
   "source": [
    "prices = get_combinaison_prices(combinaisons, containers)\n",
    "prices"
   ]
  },
  {
   "cell_type": "code",
   "execution_count": 12,
   "id": "varying-edgar",
   "metadata": {},
   "outputs": [],
   "source": [
    "def get_cheapest_combinaison(prices, combinaisons):\n",
    "    # There might be an equality\n",
    "    min_index_price = np.argmin(prices)\n",
    "    return prices[min_index_price], combinaisons[min_index_price]"
   ]
  },
  {
   "cell_type": "code",
   "execution_count": 13,
   "id": "authentic-treat",
   "metadata": {},
   "outputs": [
    {
     "data": {
      "text/plain": [
       "(7600, [1, 2, 1, 0])"
      ]
     },
     "execution_count": 13,
     "metadata": {},
     "output_type": "execute_result"
    }
   ],
   "source": [
    "cheapest_price, cheapest_combinaison = get_cheapest_combinaison(prices, combinaisons)\n",
    "cheapest_price, cheapest_combinaison"
   ]
  },
  {
   "cell_type": "code",
   "execution_count": 14,
   "id": "comprehensive-forestry",
   "metadata": {},
   "outputs": [],
   "source": [
    "def compute_cheapest_containers(containers, target_capacity, print_output=False):\n",
    "    combinaisons = get_all_combinaison(containers, target_capacity)\n",
    "    prices = get_combinaison_prices(combinaisons, containers)\n",
    "    cheapest_price, cheapest_combinaison = get_cheapest_combinaison(prices, combinaisons)\n",
    "    \n",
    "    if print_output:\n",
    "        print(f\"The cheapest containers for the capacity of {target_capacity} is\")\n",
    "        for i in range(len(containers)):\n",
    "            print(f\"* {containers[i].name}: {cheapest_combinaison[i]}\")\n",
    "        print(f\"The cost will be {cheapest_price}\")\n",
    "        \n",
    "    return cheapest_price, cheapest_combinaison    "
   ]
  },
  {
   "cell_type": "code",
   "execution_count": 15,
   "id": "expired-prophet",
   "metadata": {},
   "outputs": [
    {
     "name": "stdout",
     "output_type": "stream",
     "text": [
      "name: 40HQ, capacity: [62, 65], price: 2100\n",
      "name: 40FCL, capacity: [50, 55], price: 2000\n",
      "name: 20FCL, capacity: [25, 28], price: 1500\n",
      "name: LCL, capacity: [1, 1], price: 500\n"
     ]
    },
    {
     "data": {
      "text/plain": [
       "[None, None, None, None]"
      ]
     },
     "execution_count": 15,
     "metadata": {},
     "output_type": "execute_result"
    }
   ],
   "source": [
    "[print(container) for container in containers]"
   ]
  },
  {
   "cell_type": "code",
   "execution_count": 16,
   "id": "scenic-legend",
   "metadata": {},
   "outputs": [
    {
     "name": "stdout",
     "output_type": "stream",
     "text": [
      "The cheapest containers for the capacity of 95 is\n",
      "* 40HQ: 1\n",
      "* 40FCL: 0\n",
      "* 20FCL: 1\n",
      "* LCL: 2\n",
      "The cost will be 4600\n"
     ]
    },
    {
     "data": {
      "text/plain": [
       "(4600, [1, 0, 1, 2])"
      ]
     },
     "execution_count": 16,
     "metadata": {},
     "output_type": "execute_result"
    }
   ],
   "source": [
    "compute_cheapest_containers(containers, 95, print_output=True) # OK"
   ]
  },
  {
   "cell_type": "code",
   "execution_count": 17,
   "id": "effective-deposit",
   "metadata": {},
   "outputs": [
    {
     "name": "stdout",
     "output_type": "stream",
     "text": [
      "The cheapest containers for the capacity of 50 is\n",
      "* 40HQ: 0\n",
      "* 40FCL: 1\n",
      "* 20FCL: 0\n",
      "* LCL: 0\n",
      "The cost will be 2000\n"
     ]
    },
    {
     "data": {
      "text/plain": [
       "(2000, [0, 1, 0, 0])"
      ]
     },
     "execution_count": 17,
     "metadata": {},
     "output_type": "execute_result"
    }
   ],
   "source": [
    "compute_cheapest_containers(containers, 50, print_output=True) # OK"
   ]
  },
  {
   "cell_type": "code",
   "execution_count": 18,
   "id": "gorgeous-blond",
   "metadata": {},
   "outputs": [
    {
     "name": "stdout",
     "output_type": "stream",
     "text": [
      "The cheapest containers for the capacity of 55 is\n",
      "* 40HQ: 0\n",
      "* 40FCL: 1\n",
      "* 20FCL: 0\n",
      "* LCL: 0\n",
      "The cost will be 2000\n"
     ]
    },
    {
     "data": {
      "text/plain": [
       "(2000, [0, 1, 0, 0])"
      ]
     },
     "execution_count": 18,
     "metadata": {},
     "output_type": "execute_result"
    }
   ],
   "source": [
    "compute_cheapest_containers(containers, 55, print_output=True) # OK"
   ]
  },
  {
   "cell_type": "code",
   "execution_count": 19,
   "id": "impressed-mixer",
   "metadata": {},
   "outputs": [
    {
     "name": "stdout",
     "output_type": "stream",
     "text": [
      "The cheapest containers for the capacity of 200 is\n",
      "* 40HQ: 1\n",
      "* 40FCL: 2\n",
      "* 20FCL: 1\n",
      "* LCL: 0\n",
      "The cost will be 7600\n"
     ]
    },
    {
     "data": {
      "text/plain": [
       "(7600, [1, 2, 1, 0])"
      ]
     },
     "execution_count": 19,
     "metadata": {},
     "output_type": "execute_result"
    }
   ],
   "source": [
    "compute_cheapest_containers(containers, 200, print_output=True) # OK"
   ]
  },
  {
   "cell_type": "code",
   "execution_count": 20,
   "id": "rural-italic",
   "metadata": {},
   "outputs": [
    {
     "name": "stdout",
     "output_type": "stream",
     "text": [
      "The cheapest containers for the capacity of 99 is\n",
      "* 40HQ: 1\n",
      "* 40FCL: 0\n",
      "* 20FCL: 1\n",
      "* LCL: 6\n",
      "The cost will be 6600\n"
     ]
    },
    {
     "data": {
      "text/plain": [
       "(6600, [1, 0, 1, 6])"
      ]
     },
     "execution_count": 20,
     "metadata": {},
     "output_type": "execute_result"
    }
   ],
   "source": [
    "compute_cheapest_containers(containers, 99, print_output=True) # OK"
   ]
  },
  {
   "cell_type": "code",
   "execution_count": 21,
   "id": "minus-syria",
   "metadata": {},
   "outputs": [
    {
     "data": {
      "text/plain": [
       "[(0, 0, [0, 0, 0, 0]),\n",
       " (1, 500, [0, 0, 0, 1]),\n",
       " (2, 1000, [0, 0, 0, 2]),\n",
       " (3, 1500, [0, 0, 0, 3]),\n",
       " (4, 2000, [0, 0, 0, 4]),\n",
       " (5, 2500, [0, 0, 0, 5]),\n",
       " (6, 3000, [0, 0, 0, 6]),\n",
       " (7, 3500, [0, 0, 0, 7]),\n",
       " (8, 4000, [0, 0, 0, 8]),\n",
       " (9, 4500, [0, 0, 0, 9]),\n",
       " (10, 5000, [0, 0, 0, 10]),\n",
       " (11, 5500, [0, 0, 0, 11]),\n",
       " (12, 6000, [0, 0, 0, 12]),\n",
       " (13, 6500, [0, 0, 0, 13]),\n",
       " (14, 7000, [0, 0, 0, 14]),\n",
       " (15, 7500, [0, 0, 0, 15]),\n",
       " (16, 8000, [0, 0, 0, 16]),\n",
       " (17, 8500, [0, 0, 0, 17]),\n",
       " (18, 9000, [0, 0, 0, 18]),\n",
       " (19, 9500, [0, 0, 0, 19]),\n",
       " (20, 10000, [0, 0, 0, 20]),\n",
       " (21, 10500, [0, 0, 0, 21]),\n",
       " (22, 11000, [0, 0, 0, 22]),\n",
       " (23, 11500, [0, 0, 0, 23]),\n",
       " (24, 12000, [0, 0, 0, 24]),\n",
       " (25, 1500, [0, 0, 1, 0]),\n",
       " (26, 1500, [0, 0, 1, 0]),\n",
       " (27, 1500, [0, 0, 1, 0]),\n",
       " (28, 1500, [0, 0, 1, 0]),\n",
       " (29, 2000, [0, 0, 1, 1]),\n",
       " (30, 2500, [0, 0, 1, 2]),\n",
       " (31, 3000, [0, 0, 1, 3]),\n",
       " (32, 3500, [0, 0, 1, 4]),\n",
       " (33, 4000, [0, 0, 1, 5]),\n",
       " (34, 4500, [0, 0, 1, 6]),\n",
       " (35, 5000, [0, 0, 1, 7]),\n",
       " (36, 5500, [0, 0, 1, 8]),\n",
       " (37, 6000, [0, 0, 1, 9]),\n",
       " (38, 6500, [0, 0, 1, 10]),\n",
       " (39, 7000, [0, 0, 1, 11]),\n",
       " (40, 7500, [0, 0, 1, 12]),\n",
       " (41, 8000, [0, 0, 1, 13]),\n",
       " (42, 8500, [0, 0, 1, 14]),\n",
       " (43, 9000, [0, 0, 1, 15]),\n",
       " (44, 9500, [0, 0, 1, 16]),\n",
       " (45, 10000, [0, 0, 1, 17]),\n",
       " (46, 10500, [0, 0, 1, 18]),\n",
       " (47, 11000, [0, 0, 1, 19]),\n",
       " (48, 11500, [0, 0, 1, 20]),\n",
       " (49, 12000, [0, 0, 1, 21]),\n",
       " (50, 2000, [0, 1, 0, 0]),\n",
       " (51, 2000, [0, 1, 0, 0]),\n",
       " (52, 2000, [0, 1, 0, 0]),\n",
       " (53, 2000, [0, 1, 0, 0]),\n",
       " (54, 2000, [0, 1, 0, 0]),\n",
       " (55, 2000, [0, 1, 0, 0]),\n",
       " (56, 2500, [0, 1, 0, 1]),\n",
       " (57, 3000, [0, 1, 0, 2]),\n",
       " (58, 3500, [0, 1, 0, 3]),\n",
       " (59, 4000, [0, 1, 0, 4]),\n",
       " (60, 4500, [0, 1, 0, 5]),\n",
       " (61, 5000, [0, 1, 0, 6]),\n",
       " (62, 2100, [1, 0, 0, 0]),\n",
       " (63, 2100, [1, 0, 0, 0]),\n",
       " (64, 2100, [1, 0, 0, 0]),\n",
       " (65, 2100, [1, 0, 0, 0]),\n",
       " (66, 2600, [1, 0, 0, 1]),\n",
       " (67, 3100, [1, 0, 0, 2]),\n",
       " (68, 3600, [1, 0, 0, 3]),\n",
       " (69, 4100, [1, 0, 0, 4]),\n",
       " (70, 4600, [1, 0, 0, 5]),\n",
       " (71, 5100, [1, 0, 0, 6]),\n",
       " (72, 5600, [1, 0, 0, 7]),\n",
       " (73, 6100, [1, 0, 0, 8]),\n",
       " (74, 6600, [1, 0, 0, 9]),\n",
       " (75, 3500, [0, 1, 1, 0]),\n",
       " (76, 3500, [0, 1, 1, 0]),\n",
       " (77, 3500, [0, 1, 1, 0]),\n",
       " (78, 3500, [0, 1, 1, 0]),\n",
       " (79, 4500, [0, 0, 3, 0]),\n",
       " (80, 3500, [0, 1, 1, 0]),\n",
       " (81, 3500, [0, 1, 1, 0]),\n",
       " (82, 3500, [0, 1, 1, 0]),\n",
       " (83, 3500, [0, 1, 1, 0]),\n",
       " (84, 4000, [0, 1, 1, 1]),\n",
       " (85, 4500, [0, 1, 1, 2]),\n",
       " (86, 5000, [0, 1, 1, 3]),\n",
       " (87, 3600, [1, 0, 1, 0]),\n",
       " (88, 3600, [1, 0, 1, 0]),\n",
       " (89, 3600, [1, 0, 1, 0]),\n",
       " (90, 3600, [1, 0, 1, 0]),\n",
       " (91, 3600, [1, 0, 1, 0]),\n",
       " (92, 3600, [1, 0, 1, 0]),\n",
       " (93, 3600, [1, 0, 1, 0]),\n",
       " (94, 4100, [1, 0, 1, 1]),\n",
       " (95, 4600, [1, 0, 1, 2]),\n",
       " (96, 5100, [1, 0, 1, 3]),\n",
       " (97, 5600, [1, 0, 1, 4]),\n",
       " (98, 6100, [1, 0, 1, 5]),\n",
       " (99, 6600, [1, 0, 1, 6]),\n",
       " (100, 4000, [0, 2, 0, 0]),\n",
       " (101, 4000, [0, 2, 0, 0]),\n",
       " (102, 4000, [0, 2, 0, 0]),\n",
       " (103, 4000, [0, 2, 0, 0]),\n",
       " (104, 4000, [0, 2, 0, 0]),\n",
       " (105, 4000, [0, 2, 0, 0]),\n",
       " (106, 4000, [0, 2, 0, 0]),\n",
       " (107, 4000, [0, 2, 0, 0]),\n",
       " (108, 4000, [0, 2, 0, 0]),\n",
       " (109, 4000, [0, 2, 0, 0]),\n",
       " (110, 4000, [0, 2, 0, 0]),\n",
       " (111, 4500, [0, 2, 0, 1]),\n",
       " (112, 4100, [1, 1, 0, 0]),\n",
       " (113, 4100, [1, 1, 0, 0]),\n",
       " (114, 4100, [1, 1, 0, 0]),\n",
       " (115, 4100, [1, 1, 0, 0]),\n",
       " (116, 4100, [1, 1, 0, 0]),\n",
       " (117, 4100, [1, 1, 0, 0]),\n",
       " (118, 4100, [1, 1, 0, 0]),\n",
       " (119, 4100, [1, 1, 0, 0]),\n",
       " (120, 4100, [1, 1, 0, 0]),\n",
       " (121, 4600, [1, 1, 0, 1]),\n",
       " (122, 5100, [1, 1, 0, 2]),\n",
       " (123, 5600, [1, 1, 0, 3]),\n",
       " (124, 4200, [2, 0, 0, 0]),\n",
       " (125, 4200, [2, 0, 0, 0]),\n",
       " (126, 4200, [2, 0, 0, 0]),\n",
       " (127, 4200, [2, 0, 0, 0]),\n",
       " (128, 4200, [2, 0, 0, 0]),\n",
       " (129, 4200, [2, 0, 0, 0]),\n",
       " (130, 4200, [2, 0, 0, 0]),\n",
       " (131, 4700, [2, 0, 0, 1]),\n",
       " (132, 5200, [2, 0, 0, 2]),\n",
       " (133, 5700, [2, 0, 0, 3]),\n",
       " (134, 6200, [2, 0, 0, 4]),\n",
       " (135, 5500, [0, 2, 1, 0]),\n",
       " (136, 5500, [0, 2, 1, 0]),\n",
       " (137, 5500, [0, 2, 1, 0]),\n",
       " (138, 5500, [0, 2, 1, 0]),\n",
       " (139, 5600, [1, 1, 1, 0]),\n",
       " (140, 5600, [1, 1, 1, 0]),\n",
       " (141, 6600, [1, 0, 3, 0]),\n",
       " (142, 6600, [1, 0, 3, 0]),\n",
       " (143, 6600, [1, 0, 3, 0]),\n",
       " (144, 6600, [1, 0, 3, 0]),\n",
       " (145, 5600, [1, 1, 1, 0]),\n",
       " (146, 5600, [1, 1, 1, 0]),\n",
       " (147, 5600, [1, 1, 1, 0]),\n",
       " (148, 5600, [1, 1, 1, 0]),\n",
       " (149, 5700, [2, 0, 1, 0]),\n",
       " (150, 5700, [2, 0, 1, 0]),\n",
       " (151, 5700, [2, 0, 1, 0]),\n",
       " (152, 5700, [2, 0, 1, 0]),\n",
       " (153, 6000, [0, 3, 0, 0]),\n",
       " (154, 6000, [0, 3, 0, 0]),\n",
       " (155, 5700, [2, 0, 1, 0]),\n",
       " (156, 5700, [2, 0, 1, 0]),\n",
       " (157, 5700, [2, 0, 1, 0]),\n",
       " (158, 5700, [2, 0, 1, 0]),\n",
       " (159, 6000, [0, 3, 0, 0]),\n",
       " (160, 6000, [0, 3, 0, 0]),\n",
       " (161, 6000, [0, 3, 0, 0]),\n",
       " (162, 6000, [0, 3, 0, 0]),\n",
       " (163, 6000, [0, 3, 0, 0]),\n",
       " (164, 6000, [0, 3, 0, 0]),\n",
       " (165, 6000, [0, 3, 0, 0]),\n",
       " (166, 6100, [1, 2, 0, 0]),\n",
       " (167, 6100, [1, 2, 0, 0]),\n",
       " (168, 6100, [1, 2, 0, 0]),\n",
       " (169, 6100, [1, 2, 0, 0]),\n",
       " (170, 6100, [1, 2, 0, 0]),\n",
       " (171, 6100, [1, 2, 0, 0]),\n",
       " (172, 6100, [1, 2, 0, 0]),\n",
       " (173, 6100, [1, 2, 0, 0]),\n",
       " (174, 6100, [1, 2, 0, 0]),\n",
       " (175, 6100, [1, 2, 0, 0]),\n",
       " (176, 6200, [2, 1, 0, 0]),\n",
       " (177, 6200, [2, 1, 0, 0]),\n",
       " (178, 6200, [2, 1, 0, 0]),\n",
       " (179, 6200, [2, 1, 0, 0]),\n",
       " (180, 6200, [2, 1, 0, 0]),\n",
       " (181, 6200, [2, 1, 0, 0]),\n",
       " (182, 6200, [2, 1, 0, 0]),\n",
       " (183, 6200, [2, 1, 0, 0]),\n",
       " (184, 6200, [2, 1, 0, 0]),\n",
       " (185, 6200, [2, 1, 0, 0]),\n",
       " (186, 6300, [3, 0, 0, 0]),\n",
       " (187, 6300, [3, 0, 0, 0]),\n",
       " (188, 6300, [3, 0, 0, 0]),\n",
       " (189, 6300, [3, 0, 0, 0]),\n",
       " (190, 6300, [3, 0, 0, 0]),\n",
       " (191, 6300, [3, 0, 0, 0]),\n",
       " (192, 6300, [3, 0, 0, 0]),\n",
       " (193, 6300, [3, 0, 0, 0]),\n",
       " (194, 6300, [3, 0, 0, 0]),\n",
       " (195, 6300, [3, 0, 0, 0]),\n",
       " (196, 6800, [3, 0, 0, 1]),\n",
       " (197, 7300, [3, 0, 0, 2]),\n",
       " (198, 7800, [3, 0, 0, 3]),\n",
       " (199, 7700, [2, 1, 1, 0]),\n",
       " (200, 7600, [1, 2, 1, 0]),\n",
       " (201, 7600, [1, 2, 1, 0]),\n",
       " (202, 7600, [1, 2, 1, 0]),\n",
       " (203, 7600, [1, 2, 1, 0]),\n",
       " (204, 8000, [0, 4, 0, 0]),\n",
       " (205, 8000, [0, 4, 0, 0]),\n",
       " (206, 8000, [0, 4, 0, 0]),\n",
       " (207, 8000, [0, 4, 0, 0]),\n",
       " (208, 8000, [0, 4, 0, 0]),\n",
       " (209, 8000, [0, 4, 0, 0]),\n",
       " (210, 7700, [2, 1, 1, 0]),\n",
       " (211, 7700, [2, 1, 1, 0]),\n",
       " (212, 7700, [2, 1, 1, 0]),\n",
       " (213, 7700, [2, 1, 1, 0]),\n",
       " (214, 7800, [3, 0, 1, 0]),\n",
       " (215, 8000, [0, 4, 0, 0]),\n",
       " (216, 8000, [0, 4, 0, 0]),\n",
       " (217, 8000, [0, 4, 0, 0]),\n",
       " (218, 8000, [0, 4, 0, 0]),\n",
       " (219, 8000, [0, 4, 0, 0]),\n",
       " (220, 7800, [3, 0, 1, 0]),\n",
       " (221, 7800, [3, 0, 1, 0]),\n",
       " (222, 7800, [3, 0, 1, 0]),\n",
       " (223, 7800, [3, 0, 1, 0]),\n",
       " (224, 8100, [1, 3, 0, 0]),\n",
       " (225, 8100, [1, 3, 0, 0]),\n",
       " (226, 8100, [1, 3, 0, 0]),\n",
       " (227, 8100, [1, 3, 0, 0]),\n",
       " (228, 8100, [1, 3, 0, 0]),\n",
       " (229, 8100, [1, 3, 0, 0]),\n",
       " (230, 8100, [1, 3, 0, 0]),\n",
       " (231, 8200, [2, 2, 0, 0]),\n",
       " (232, 8200, [2, 2, 0, 0]),\n",
       " (233, 8200, [2, 2, 0, 0]),\n",
       " (234, 8200, [2, 2, 0, 0]),\n",
       " (235, 8200, [2, 2, 0, 0]),\n",
       " (236, 8200, [2, 2, 0, 0]),\n",
       " (237, 8200, [2, 2, 0, 0]),\n",
       " (238, 8200, [2, 2, 0, 0]),\n",
       " (239, 8200, [2, 2, 0, 0]),\n",
       " (240, 8200, [2, 2, 0, 0]),\n",
       " (241, 8300, [3, 1, 0, 0]),\n",
       " (242, 9200, [2, 2, 0, 2]),\n",
       " (243, 9700, [2, 2, 0, 3]),\n",
       " (244, 10200, [2, 2, 0, 4]),\n",
       " (245, 8300, [3, 1, 0, 0]),\n",
       " (246, 8300, [3, 1, 0, 0]),\n",
       " (247, 8300, [3, 1, 0, 0]),\n",
       " (248, 8300, [3, 1, 0, 0]),\n",
       " (249, 8300, [3, 1, 0, 0])]"
      ]
     },
     "execution_count": 21,
     "metadata": {},
     "output_type": "execute_result"
    }
   ],
   "source": [
    "max_capacity = 250\n",
    "prices = [(0, 0, [0, 0, 0, 0])]\n",
    "for capacity in range(1, max_capacity):\n",
    "    cheapest_price, cheapest_combinaison = compute_cheapest_containers(containers, capacity)\n",
    "    prices.append((capacity, cheapest_price, cheapest_combinaison))\n",
    "\n",
    "prices"
   ]
  },
  {
   "cell_type": "code",
   "execution_count": 22,
   "id": "behind-westminster",
   "metadata": {},
   "outputs": [
    {
     "data": {
      "text/plain": [
       "((99, 6600, [1, 0, 1, 6]), (100, 4000, [0, 2, 0, 0]), (93, 3600, [1, 0, 1, 0]))"
      ]
     },
     "execution_count": 22,
     "metadata": {},
     "output_type": "execute_result"
    }
   ],
   "source": [
    "# Find the closest cheapest combinaison without LCL container\n",
    "base_capacity = 99\n",
    "for new_capacity in range(base_capacity+1, max_capacity):\n",
    "    if prices[new_capacity][2][-1] == 0:\n",
    "        break\n",
    "\n",
    "for new_capacity2 in range(base_capacity-1, 0, -1):\n",
    "    if prices[new_capacity2][2][-1] == 0:\n",
    "        break\n",
    "\n",
    "prices[base_capacity], prices[new_capacity], prices[new_capacity2]"
   ]
  }
 ],
 "metadata": {
  "kernelspec": {
   "display_name": "Python 3",
   "language": "python",
   "name": "python3"
  },
  "language_info": {
   "codemirror_mode": {
    "name": "ipython",
    "version": 3
   },
   "file_extension": ".py",
   "mimetype": "text/x-python",
   "name": "python",
   "nbconvert_exporter": "python",
   "pygments_lexer": "ipython3",
   "version": "3.8.10"
  }
 },
 "nbformat": 4,
 "nbformat_minor": 5
}
